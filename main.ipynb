{
 "cells": [
  {
   "cell_type": "markdown",
   "id": "c781a568",
   "metadata": {},
   "source": [
    "# Import the libraries\n"
   ]
  },
  {
   "cell_type": "code",
   "execution_count": null,
   "id": "992220d4",
   "metadata": {},
   "outputs": [],
   "source": [
    "import kagglehub\n",
    "import torch\n",
    "import torchvision \n",
    "import torchvision.transforms as transforms\n",
    "import matplotlib.pyplot as plt\n",
    "import numpy as np\n",
    "import os\n",
    "import pandas as pd\n",
    "from PIL import Image\n",
    "import shutil"
   ]
  },
  {
   "cell_type": "markdown",
   "id": "9264e43d",
   "metadata": {},
   "source": [
    "# Download the dataset\n"
   ]
  },
  {
   "cell_type": "code",
   "execution_count": null,
   "id": "9c12217b",
   "metadata": {},
   "outputs": [],
   "source": [
    "path = kagglehub.dataset_download(\"crawford/cat-dataset\")\n",
    "\n",
    "print(\"Path to dataset files:\", path)"
   ]
  },
  {
   "cell_type": "markdown",
   "id": "85716d3e",
   "metadata": {},
   "source": [
    "# Inspect the dataset"
   ]
  },
  {
   "cell_type": "markdown",
   "id": "baddf957",
   "metadata": {},
   "source": [
    "## List the files in the dataset directory\n"
   ]
  },
  {
   "cell_type": "code",
   "execution_count": null,
   "id": "730fcc36",
   "metadata": {},
   "outputs": [],
   "source": [
    "print(\"Files in the dataset directory:\")\n",
    "for folder in os.listdir(path):\n",
    "    print(f\"Folder {folder} has {len(os.listdir(os.path.join(path, folder)))} files \")\n",
    "\n",
    "if 'data' not in os.listdir():\n",
    "    os.mkdir(\"data\")"
   ]
  },
  {
   "cell_type": "markdown",
   "id": "5899885c",
   "metadata": {},
   "source": [
    "## Move the images and the .cat files in different folders\n"
   ]
  },
  {
   "cell_type": "code",
   "execution_count": null,
   "id": "f7d4c468",
   "metadata": {},
   "outputs": [],
   "source": [
    "if 'images' not in os.listdir(\"data\"):\n",
    "    os.mkdir(\"data/images\")\n",
    "if 'cat_files' not in os.listdir(\"data\"):\n",
    "    os.mkdir(\"data/cat_files\")"
   ]
  },
  {
   "cell_type": "markdown",
   "id": "9c3b6a54",
   "metadata": {},
   "source": [
    "## Move the images and the .cat files in different folders\n"
   ]
  },
  {
   "cell_type": "code",
   "execution_count": null,
   "id": "0a0cc48d",
   "metadata": {},
   "outputs": [],
   "source": [
    "for folder in os.listdir(path):\n",
    "    for file in os.listdir(os.path.join(path, folder)):\n",
    "        if file.endswith(\".cat\"):\n",
    "            shutil.move(os.path.join(path, folder, file), os.path.join(\"data/cat_files\", file))\n",
    "        else:\n",
    "            shutil.move(os.path.join(path, folder, file), os.path.join(\"data/images\", file))\n"
   ]
  },
  {
   "cell_type": "code",
   "execution_count": null,
   "id": "59b482eb",
   "metadata": {},
   "outputs": [],
   "source": [
    "## List the files in the images directory\n",
    "print(f\"The images directory has {len(os.listdir('data/images'))} files\")\n",
    "## List the files in the cat_files directory\n",
    "print(f\"The cat_files directory has {len(os.listdir('data/cat_files'))} files\")"
   ]
  },
  {
   "cell_type": "markdown",
   "id": "61f4226b",
   "metadata": {},
   "source": [
    "## Load the images\n"
   ]
  },
  {
   "cell_type": "code",
   "execution_count": null,
   "id": "a5775dff",
   "metadata": {},
   "outputs": [],
   "source": [
    "images = []\n",
    "for file in os.listdir(\"data/images\"):\n",
    "    if file.endswith(\".jpg\"):\n",
    "        image = Image.open(os.path.join(\"data/images\", file))\n",
    "        images.append(image)\n"
   ]
  },
  {
   "cell_type": "markdown",
   "id": "c6e31962",
   "metadata": {},
   "source": [
    "## Show the first 4 images\n"
   ]
  },
  {
   "cell_type": "code",
   "execution_count": null,
   "id": "137b05a9",
   "metadata": {},
   "outputs": [],
   "source": [
    "for i in range(4):\n",
    "    plt.subplot(2, 2, i + 1)\n",
    "    plt.imshow(images[i])\n",
    "    plt.axis('off')\n",
    "plt.show()"
   ]
  },
  {
   "cell_type": "markdown",
   "id": "80cf73a2",
   "metadata": {},
   "source": [
    "## Load the cat files\n"
   ]
  },
  {
   "cell_type": "code",
   "execution_count": null,
   "id": "2b8a909b",
   "metadata": {},
   "outputs": [],
   "source": [
    "cat_files = []\n",
    "for file in os.listdir(\"data/cat_files\"):\n",
    "    if file.endswith(\".cat\"):\n",
    "        with open(os.path.join(\"data/cat_files\", file), 'r') as f:\n",
    "            cat_files.append(f.read())"
   ]
  },
  {
   "cell_type": "markdown",
   "id": "01423ab0",
   "metadata": {},
   "source": [
    "## Show the first 4 cat files\n"
   ]
  },
  {
   "cell_type": "code",
   "execution_count": null,
   "id": "b56957bb",
   "metadata": {},
   "outputs": [],
   "source": [
    "for i in range(4):\n",
    "    print(f\"Cat file {i + 1}:\")\n",
    "    print(cat_files[i])\n",
    "    print()"
   ]
  },
  {
   "cell_type": "code",
   "execution_count": null,
   "id": "f6f6af28",
   "metadata": {},
   "outputs": [],
   "source": []
  }
 ],
 "metadata": {
  "kernelspec": {
   "display_name": "dataml",
   "language": "python",
   "name": "python3"
  },
  "language_info": {
   "name": "python",
   "version": "3.12.9"
  }
 },
 "nbformat": 4,
 "nbformat_minor": 5
}
